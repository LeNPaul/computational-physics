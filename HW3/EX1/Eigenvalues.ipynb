{
 "cells": [
  {
   "cell_type": "code",
   "execution_count": 24,
   "metadata": {
    "collapsed": false
   },
   "outputs": [
    {
     "name": "stdout",
     "output_type": "stream",
     "text": [
      "[ 6.79624015 -1.26244658  0.46620643]\n",
      "4\n"
     ]
    }
   ],
   "source": [
    "\"\"\"\n",
    "http://docs.scipy.org/doc/numpy/reference/routines.linalg.html\n",
    "http://apmonitor.com/che263/index.php\n",
    "http://www.physics.nyu.edu/pine/pymanual/html/chap1/chap1_intro.html\n",
    "\"\"\"\n",
    "import numpy as np # Import numpy\n",
    "import numpy.linalg as LA # Import numpy's linear algebra package and alias it with LA\n",
    "\n",
    "A = np.array([\n",
    " [1, 2, 3],\n",
    " [2, 2, 2],\n",
    " [3, 2, 3]\n",
    "])\n",
    "\n",
    "dA, VA = LA.eig(A)\n",
    "\n",
    "print(dA)\n",
    "\n",
    "f = lambda x: x**2\n",
    "\n",
    "print(f(2))"
   ]
  }
 ],
 "metadata": {
  "kernelspec": {
   "display_name": "Python 3",
   "language": "python",
   "name": "python3"
  },
  "language_info": {
   "codemirror_mode": {
    "name": "ipython",
    "version": 3
   },
   "file_extension": ".py",
   "mimetype": "text/x-python",
   "name": "python",
   "nbconvert_exporter": "python",
   "pygments_lexer": "ipython3",
   "version": "3.4.3"
  }
 },
 "nbformat": 4,
 "nbformat_minor": 1
}
